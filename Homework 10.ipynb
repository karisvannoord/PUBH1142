{
 "cells": [
  {
   "cell_type": "markdown",
   "metadata": {},
   "source": [
    "### Homework: Chapter 10"
   ]
  },
  {
   "cell_type": "code",
   "execution_count": 4,
   "metadata": {},
   "outputs": [],
   "source": [
    "# import seaborn\n",
    "import matplotlib.pyplot as plt"
   ]
  },
  {
   "cell_type": "code",
   "execution_count": 5,
   "metadata": {},
   "outputs": [],
   "source": [
    "# Create a scatterplot for variables x and y in a dataframe df\n",
    "def scatterplot(df, x, y):\n",
    "    plt.scatter(df[x], df[y])\n",
    "    plt.xlabel(x)\n",
    "    plt.ylabel(y)\n",
    "    plt.title(f'{x} vs {y}')\n",
    "    plt.show()"
   ]
  },
  {
   "cell_type": "code",
   "execution_count": 6,
   "metadata": {},
   "outputs": [],
   "source": [
    "# Create a line plot in seaborn for variables x and y in a dataframe df\n",
    "def lineplot(df, x, y):\n",
    "    plt.plot(df[x], df[y])\n",
    "    plt.xlabel(x)\n",
    "    plt.ylabel(y)\n",
    "    plt.title(f'{x} vs {y}')\n",
    "    plt.show()"
   ]
  },
  {
   "cell_type": "code",
   "execution_count": 7,
   "metadata": {},
   "outputs": [],
   "source": [
    "# Create a histogram in seaborn for variable x in a dataframe df\n",
    "def histogram(df, x):\n",
    "    plt.hist(df[x])\n",
    "    plt.xlabel(x)\n",
    "    plt.ylabel('Frequency')\n",
    "    plt.title(f'{x} Histogram')\n",
    "    plt.show()"
   ]
  },
  {
   "cell_type": "code",
   "execution_count": 8,
   "metadata": {},
   "outputs": [],
   "source": [
    "# Create a stacked histogram in seaborn for variable x in a dataframe df\n",
    "def stacked_histogram(df, x, y):\n",
    "    plt.hist([df[df[y] == 0][x], df[df[y] == 1][x]], stacked=True)\n",
    "    plt.xlabel(x)\n",
    "    plt.ylabel('Frequency')\n",
    "    plt.title(f'{x} Stacked Histogram')\n",
    "    plt.show()"
   ]
  },
  {
   "cell_type": "code",
   "execution_count": 9,
   "metadata": {},
   "outputs": [],
   "source": [
    "# Create a heatmap in seaborn for a variable x and y in a dataframe df\n",
    "def heatmap(df, x, y):\n",
    "    plt.hist2d(df[x], df[y])\n",
    "    plt.xlabel(x)\n",
    "    plt.ylabel(y)\n",
    "    plt.title(f'{x} vs {y} Heatmap')\n",
    "    plt.show()"
   ]
  },
  {
   "cell_type": "code",
   "execution_count": 10,
   "metadata": {},
   "outputs": [],
   "source": [
    "# Create a box plot in seaborn for a variable x in a dataframe df\n",
    "def boxplot(df, x):\n",
    "    plt.boxplot(df[x])\n",
    "    plt.xlabel(x)\n",
    "    plt.ylabel('Value')\n",
    "    plt.title(f'{x} Boxplot')\n",
    "    plt.show()"
   ]
  },
  {
   "cell_type": "code",
   "execution_count": 11,
   "metadata": {},
   "outputs": [],
   "source": [
    "# Create a violin plot in seaborn for a variable x in a dataframe df\n",
    "def violinplot(df, x):\n",
    "    plt.violinplot(df[x])\n",
    "    plt.xlabel(x)\n",
    "    plt.ylabel('Value')\n",
    "    plt.title(f'{x} Violinplot')\n",
    "    plt.show()"
   ]
  },
  {
   "cell_type": "code",
   "execution_count": 12,
   "metadata": {},
   "outputs": [],
   "source": [
    "# Create a bar plot in seaborn for a variable x in a dataframe df\n",
    "def barplot(df, x):\n",
    "    plt.bar(df[x].value_counts().index, df[x].value_counts())\n",
    "    plt.xlabel(x)\n",
    "    plt.ylabel('Frequency')\n",
    "    plt.title(f'{x} Barplot')\n",
    "    plt.show()"
   ]
  },
  {
   "cell_type": "code",
   "execution_count": 13,
   "metadata": {},
   "outputs": [],
   "source": [
    "# Add a title to the seaborn plot assigned to the variable ax with the title 'My Title'\n",
    "def add_title(ax):\n",
    "    ax.set_title('My Title')\n",
    "    return ax"
   ]
  },
  {
   "cell_type": "code",
   "execution_count": 14,
   "metadata": {},
   "outputs": [],
   "source": [
    "# Save a seaborn plot ax to a file named 'output.png'\n",
    "def save_plot(ax):\n",
    "    ax.get_figure().savefig('output.png')\n",
    "    return ax"
   ]
  },
  {
   "cell_type": "code",
   "execution_count": 15,
   "metadata": {},
   "outputs": [],
   "source": [
    "# Set the x and y axis labels to 'X Label' and 'Y Label' respectively for a seaborn plot ax\n",
    "def set_labels(ax):\n",
    "    ax.set_xlabel('X Label')\n",
    "    ax.set_ylabel('Y Label')\n",
    "    return ax"
   ]
  },
  {
   "cell_type": "code",
   "execution_count": 16,
   "metadata": {},
   "outputs": [],
   "source": [
    "# Change the color palette of a seaborn plot to 'Blues'\n",
    "def set_palette(ax):\n",
    "    ax.set_palette('Blues')\n",
    "    return ax"
   ]
  },
  {
   "cell_type": "code",
   "execution_count": 17,
   "metadata": {},
   "outputs": [],
   "source": [
    "# Display a seaborn plot with  alogarithmic scale on the y-axis\n",
    "def set_yscale(ax):\n",
    "    ax.set_yscale('log')\n",
    "    return ax"
   ]
  },
  {
   "cell_type": "code",
   "execution_count": 18,
   "metadata": {},
   "outputs": [],
   "source": [
    "# Add a regression line to a scatteplot in seaborn for variables x and y in the dataframe sf\n",
    "def regplot(df, x, y):\n",
    "    plt.scatter(df[x], df[y])\n",
    "    plt.xlabel(x)\n",
    "    plt.ylabel(y)\n",
    "    plt.title(f'{x} vs {y}')\n",
    "    plt.plot(np.unique(df[x]), np.poly1d(np.polyfit(df[x], df[y], 1))(np.unique(df[x])), color='red')\n",
    "    plt.show()"
   ]
  },
  {
   "cell_type": "code",
   "execution_count": null,
   "metadata": {},
   "outputs": [],
   "source": []
  }
 ],
 "metadata": {
  "kernelspec": {
   "display_name": "demo",
   "language": "python",
   "name": "python3"
  },
  "language_info": {
   "codemirror_mode": {
    "name": "ipython",
    "version": 3
   },
   "file_extension": ".py",
   "mimetype": "text/x-python",
   "name": "python",
   "nbconvert_exporter": "python",
   "pygments_lexer": "ipython3",
   "version": "3.12.1"
  }
 },
 "nbformat": 4,
 "nbformat_minor": 2
}
